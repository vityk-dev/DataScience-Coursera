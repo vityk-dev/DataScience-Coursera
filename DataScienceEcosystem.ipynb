{
  "nbformat": 4,
  "nbformat_minor": 0,
  "metadata": {
    "colab": {
      "provenance": []
    },
    "kernelspec": {
      "name": "python3",
      "display_name": "Python 3"
    },
    "language_info": {
      "name": "python"
    }
  },
  "cells": [
    {
      "cell_type": "markdown",
      "source": [
        "# Data Science Tools and Ecosystem"
      ],
      "metadata": {
        "id": "t8zdR0gWQWOr"
      }
    },
    {
      "cell_type": "markdown",
      "source": [
        "##Author\n",
        "Wiktor"
      ],
      "metadata": {
        "id": "ipYTOQBVWMLp"
      }
    },
    {
      "cell_type": "markdown",
      "source": [
        "In this notebook, Data Science Tools and Ecosystem are summarized."
      ],
      "metadata": {
        "id": "zTbj2mC-RL5v"
      }
    },
    {
      "cell_type": "markdown",
      "source": [
        "**Objectives:**\n",
        "\n",
        "\n",
        "*   GitHub and version control\n",
        "*   R and plotting with it\n",
        "*   Introduction to Data Science\n",
        "* Jupiter Notebook\n",
        "\n"
      ],
      "metadata": {
        "id": "znb_FTg3SOb_"
      }
    },
    {
      "cell_type": "markdown",
      "source": [
        "Some of the popular languages that Data Scientists use are:\n",
        "\n",
        "\n",
        "1.   Python\n",
        "2.   R\n",
        "3.   SQL\n",
        "4.   Julia\n",
        "5. Ruby\n",
        "6. Bash\n",
        "\n"
      ],
      "metadata": {
        "id": "TDIFDnFMRd6-"
      }
    },
    {
      "cell_type": "markdown",
      "source": [
        "Some of the commonly used libraries used by Data Scientists include:\n",
        "\n",
        "\n",
        "1. Plotly\n",
        "2. Seaborn\n",
        "3. Tensorflow\n",
        "4. Matplotlib\n",
        "5. Pytorch\n",
        "6. Pandas\n",
        "\n",
        "\n"
      ],
      "metadata": {
        "id": "I-lNwe29TQce"
      }
    },
    {
      "cell_type": "markdown",
      "source": [
        "<table>\n",
        "\n",
        "</table>"
      ],
      "metadata": {
        "id": "pbV0YteOSPUt"
      }
    },
    {
      "cell_type": "markdown",
      "source": [
        "<table ><tr><th >Data Science Tools <th><th> <tr><tr>\n",
        "<tr><td> VSCode <td><td>\n",
        "<tr><td> Pycharm <td><td>\n",
        "<tr><td> Google Colab<td><td>"
      ],
      "metadata": {
        "id": "o03RN59fSbw2"
      }
    },
    {
      "cell_type": "markdown",
      "source": [
        "### Below are a few examples of evaluating arithmetic expressions in Python\n"
      ],
      "metadata": {
        "id": "Az-aQTZET9Bq"
      }
    },
    {
      "cell_type": "code",
      "source": [
        "#This a simple arithmetic expression to mutiply then add integers\n",
        "(3*4)+5\n"
      ],
      "metadata": {
        "colab": {
          "base_uri": "https://localhost:8080/"
        },
        "id": "EOns9Or_Uism",
        "outputId": "012504b8-17e9-4f6a-8027-ab8fdc45827c"
      },
      "execution_count": 1,
      "outputs": [
        {
          "output_type": "execute_result",
          "data": {
            "text/plain": [
              "17"
            ]
          },
          "metadata": {},
          "execution_count": 1
        }
      ]
    },
    {
      "cell_type": "code",
      "source": [
        "# This will convert 200 minutes to hours by deviding by 60\n",
        "minutes = 200\n",
        "hours = minutes / 60\n",
        "print(hours)"
      ],
      "metadata": {
        "colab": {
          "base_uri": "https://localhost:8080/"
        },
        "id": "Ggqaxn8CU7rQ",
        "outputId": "b24afede-085e-46e3-c569-acca5240f2fe"
      },
      "execution_count": 2,
      "outputs": [
        {
          "output_type": "stream",
          "name": "stdout",
          "text": [
            "3.3333333333333335\n"
          ]
        }
      ]
    },
    {
      "cell_type": "markdown",
      "source": [],
      "metadata": {
        "id": "tNm0qDBIVXHd"
      }
    }
  ]
}
